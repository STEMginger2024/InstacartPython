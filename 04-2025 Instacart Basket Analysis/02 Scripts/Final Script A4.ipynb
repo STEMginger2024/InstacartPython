{
 "cells": [
  {
   "cell_type": "markdown",
   "id": "efb8b5e7-9440-4724-827d-64ab62b86406",
   "metadata": {},
   "source": [
    "CONTENTS LIST:\n",
    "- Creating crosstabs\n",
    "- Creating a regional segmentation for data\n",
    "- Creating exclusion column\n",
    "- Creating customer profiles\n",
    "- Aggregating and visualizing customer profiles in comparison with other variables"
   ]
  },
  {
   "cell_type": "markdown",
   "id": "6eeb89c2-7b9c-45b2-938b-de0b83107e53",
   "metadata": {},
   "source": [
    "#01 Importing libraries and data"
   ]
  },
  {
   "cell_type": "code",
   "execution_count": 4,
   "id": "af6a935f-4b63-4278-9011-a18d65f1cccf",
   "metadata": {},
   "outputs": [],
   "source": [
    "#importing libraries\n",
    "import pandas as pd\n",
    "import numpy as np\n",
    "import os\n",
    "import matplotlib.pyplot as plt\n",
    "import seaborn as sns\n",
    "import scipy"
   ]
  },
  {
   "cell_type": "code",
   "execution_count": 5,
   "id": "788286e2-22ee-4111-9aaf-6412e9e94a35",
   "metadata": {},
   "outputs": [],
   "source": [
    "#importing data\n",
    "path = '/Users/gingermoore/Documents/04-2025 Instacart Basket Analysis'\n",
    "df = pd.read_pickle(os.path.join(path, '02 Data', 'Prepared Data', 'ords_prods_cust.pkl'))"
   ]
  },
  {
   "cell_type": "code",
   "execution_count": 6,
   "id": "bbf1e509-c373-480f-9031-4bc9a0d1eed8",
   "metadata": {},
   "outputs": [
    {
     "data": {
      "text/plain": [
       "Index(['user_id', 'Gender', 'State', 'Age', 'date_joined', 'dependents',\n",
       "       'fam_status', 'income', 'product_id', 'product_name', 'aisle_id',\n",
       "       'department_id', 'prices', 'order_id', 'orders_chronological',\n",
       "       'orders_day_of_week', 'order_hour_of_day', 'days_since_prior_order',\n",
       "       'is_new', 'add_to_cart_order', 'reordered', 'price_range',\n",
       "       'busiest_days', 'busiest_period_of_day', 'max_order', 'loyalty_flag',\n",
       "       'avg_order_total', 'spending_flag', 'median_days', 'frequency_flag'],\n",
       "      dtype='object')"
      ]
     },
     "execution_count": 6,
     "metadata": {},
     "output_type": "execute_result"
    }
   ],
   "source": [
    "df.columns"
   ]
  },
  {
   "cell_type": "markdown",
   "id": "cbb2797e-1b89-4356-b1fa-4b3441ee6584",
   "metadata": {},
   "source": [
    "I eliminated the names of the customers during exercise 4.9 since that data was extraneous. I believe that was the only PII involved, so there should not need to be any further concern."
   ]
  },
  {
   "cell_type": "markdown",
   "id": "5db64762-316b-43e8-9ad3-b97cff48930c",
   "metadata": {},
   "source": [
    "#02 Creating regional segmentation"
   ]
  },
  {
   "cell_type": "code",
   "execution_count": 9,
   "id": "3b48f9ab-64b4-4b2a-a6be-64e7463e0215",
   "metadata": {},
   "outputs": [],
   "source": [
    "#defining values for region column\n",
    "region = []\n",
    "for value in df['State']:\n",
    "    if value in ['Maine', 'New Hampshire', 'Vermont', 'Massachusetts', 'Rhode Island', 'Connecticut', 'New York', 'Pennsylvania', 'New Jersey']:\n",
    "        region.append('Northeast')\n",
    "    elif value in ['Wisconsin', 'Michigan', 'Illinois', 'Indiana', 'Ohio', 'North Dakota', 'South Dakota', 'Nebraska', 'Kansas', 'Minnesota',\n",
    "                   'Iowa', 'Missouri']:\n",
    "        region.append('Midwest')\n",
    "    elif value in ['Delaware', 'Maryland', 'District of Columbia', 'Virginia', 'West Virginia', 'North Carolina', 'South Carolina', 'Florida',\n",
    "                   'Georgia', 'Kentucky', 'Tennessee', 'Mississippi', 'Alabama', 'Oklahoma', 'Texas', 'Arkansas', 'Louisiana']:\n",
    "        region.append('South')\n",
    "    else:\n",
    "        region.append('West')"
   ]
  },
  {
   "cell_type": "code",
   "execution_count": 10,
   "id": "19dff500-cdf4-4d22-8a56-fe13362f7371",
   "metadata": {},
   "outputs": [],
   "source": [
    "#creating column for new values\n",
    "df['region'] = region"
   ]
  },
  {
   "cell_type": "code",
   "execution_count": 11,
   "id": "b92d2170-8906-4a7f-862c-61e752f37ed4",
   "metadata": {},
   "outputs": [
    {
     "data": {
      "text/plain": [
       "region\n",
       "South        10790096\n",
       "West          8291679\n",
       "Midwest       7596065\n",
       "Northeast     5721892\n",
       "Name: count, dtype: int64"
      ]
     },
     "execution_count": 11,
     "metadata": {},
     "output_type": "execute_result"
    }
   ],
   "source": [
    "df['region'].value_counts(dropna = False)"
   ]
  },
  {
   "cell_type": "code",
   "execution_count": 12,
   "id": "343ca10b-44d9-4535-ab11-7952c0484377",
   "metadata": {},
   "outputs": [],
   "source": [
    "#creating crosstab to find differences in spending habits\n",
    "crosstab = pd.crosstab(df['region'], df['spending_flag'], dropna = False)"
   ]
  },
  {
   "cell_type": "code",
   "execution_count": 13,
   "id": "93f90830-5682-4975-8a20-6c0b0d6a8b6b",
   "metadata": {},
   "outputs": [],
   "source": [
    "crosstab.to_clipboard()"
   ]
  },
  {
   "cell_type": "code",
   "execution_count": 14,
   "id": "8119acc0-5b4a-43c8-b9f7-794362e8e4ec",
   "metadata": {},
   "outputs": [
    {
     "data": {
      "image/png": "[encoded data removed]",
      "text/plain": [
       "<Figure size 640x480 with 1 Axes>"
      ]
     },
     "metadata": {},
     "output_type": "display_data"
    }
   ],
   "source": [
    "#attempting to create a stacked bar chart\n",
    "spending = crosstab.plot(kind = 'bar', stacked = True, rot=0)\n",
    "plt.title('Spending Habits by Region')\n",
    "plt.yticks([2000000, 4000000, 6000000, 8000000, 10000000], ['2mil', '4mil', '6mil', '8mil', '10mil'])\n",
    "plt.show()"
   ]
  },
  {
   "cell_type": "markdown",
   "id": "fe2fa742-62aa-4cb6-b05e-cd2d167490eb",
   "metadata": {},
   "source": [
    "#03 Creating exclusion flag"
   ]
  },
  {
   "cell_type": "code",
   "execution_count": 16,
   "id": "52ecbd81-f73b-4277-ab03-5bd4a7e48da2",
   "metadata": {},
   "outputs": [],
   "source": [
    "#creating conditions\n",
    "df.loc[df['max_order'] < 5, 'exclude'] = 'low-activity'"
   ]
  },
  {
   "cell_type": "code",
   "execution_count": 17,
   "id": "533596f0-4141-4b9a-bc8b-7f0adc878192",
   "metadata": {},
   "outputs": [],
   "source": [
    "df.loc[df['max_order'] >= 5, 'exclude'] = 'regular-activity'"
   ]
  },
  {
   "cell_type": "code",
   "execution_count": 18,
   "id": "4b42a3f4-f887-4680-8b80-17ff7703b920",
   "metadata": {},
   "outputs": [
    {
     "data": {
      "text/plain": [
       "exclude\n",
       "regular-activity    30959687\n",
       "low-activity         1440045\n",
       "Name: count, dtype: int64"
      ]
     },
     "execution_count": 18,
     "metadata": {},
     "output_type": "execute_result"
    }
   ],
   "source": [
    "#checking the values\n",
    "df['exclude'].value_counts(dropna=False)"
   ]
  },
  {
   "cell_type": "code",
   "execution_count": 19,
   "id": "88154ce4-6e7c-4bba-af21-a6c67df0a61e",
   "metadata": {},
   "outputs": [],
   "source": [
    "#new dataframe with only the regular-activity customers\n",
    "df_2 = df[df['exclude'] == 'regular-activity']"
   ]
  },
  {
   "cell_type": "code",
   "execution_count": 20,
   "id": "30e07f88-fddd-48cc-89f3-176f3a77e3ce",
   "metadata": {},
   "outputs": [
    {
     "data": {
      "text/plain": [
       "exclude\n",
       "regular-activity    30959687\n",
       "Name: count, dtype: int64"
      ]
     },
     "execution_count": 20,
     "metadata": {},
     "output_type": "execute_result"
    }
   ],
   "source": [
    "df_2['exclude'].value_counts(dropna = False)"
   ]
  },
  {
   "cell_type": "code",
   "execution_count": 21,
   "id": "bcca2f3f-0706-4a61-be7e-04205b2e4154",
   "metadata": {},
   "outputs": [],
   "source": [
    "#exporting sample as requested\n",
    "df_2.to_pickle(os.path.join(path, '02 Data', 'Prepared Data', 'ords_prods_cust_exclude_low_activity.pkl'))"
   ]
  },
  {
   "cell_type": "markdown",
   "id": "182d9b3c-e812-4d66-a40a-06862e21727a",
   "metadata": {},
   "source": [
    "#04 Creating customer profiles"
   ]
  },
  {
   "cell_type": "code",
   "execution_count": 23,
   "id": "06a928d7-358c-404b-bd59-5acfb30a2556",
   "metadata": {},
   "outputs": [
    {
     "data": {
      "text/plain": [
       "18"
      ]
     },
     "execution_count": 23,
     "metadata": {},
     "output_type": "execute_result"
    }
   ],
   "source": [
    "#finding min and max ages in dataframe\n",
    "df_2['Age'].min()"
   ]
  },
  {
   "cell_type": "code",
   "execution_count": 24,
   "id": "507376fa-798e-4183-a875-ea7e35129d2a",
   "metadata": {},
   "outputs": [
    {
     "data": {
      "text/plain": [
       "81"
      ]
     },
     "execution_count": 24,
     "metadata": {},
     "output_type": "execute_result"
    }
   ],
   "source": [
    "df_2['Age'].max()"
   ]
  },
  {
   "cell_type": "code",
   "execution_count": 25,
   "id": "a8928514-dc21-484a-89e8-618f973aea6f",
   "metadata": {},
   "outputs": [
    {
     "name": "stderr",
     "output_type": "stream",
     "text": [
      "/var/folders/dt/_2cmd91j32bgtvjmx8m320w40000gn/T/ipykernel_44285/4278238225.py:2: SettingWithCopyWarning: \n",
      "A value is trying to be set on a copy of a slice from a DataFrame.\n",
      "Try using .loc[row_indexer,col_indexer] = value instead\n",
      "\n",
      "See the caveats in the documentation: https://pandas.pydata.org/pandas-docs/stable/user_guide/indexing.html#returning-a-view-versus-a-copy\n",
      "  df_2.loc[df_2['dependents'] == 0, 'customer_profile'] = 'single adult'\n"
     ]
    }
   ],
   "source": [
    "#Creating conditions for customer profile\n",
    "df_2.loc[df_2['dependents'] == 0, 'customer_profile'] = 'single adult'"
   ]
  },
  {
   "cell_type": "code",
   "execution_count": 26,
   "id": "f3bad12b-d1f7-4022-b83a-a249c49a1cc4",
   "metadata": {},
   "outputs": [],
   "source": [
    "df_2.loc[(df_2['dependents'] >=1) & (df_2['Age'] >=18) & (df_2['Age'] <=35), 'customer_profile'] = 'young parent'"
   ]
  },
  {
   "cell_type": "code",
   "execution_count": 27,
   "id": "f799fbfa-4181-4aff-9555-3306157772a7",
   "metadata": {},
   "outputs": [],
   "source": [
    "df_2.loc[(df_2['Age'] >=36) & (df_2['Age'] <= 55), 'customer_profile'] = 'midlife'"
   ]
  },
  {
   "cell_type": "code",
   "execution_count": 28,
   "id": "82c1436a-6a1f-441f-9e14-896b32f020bd",
   "metadata": {},
   "outputs": [],
   "source": [
    "df_2.loc[(df_2['Age'] > 55), 'customer_profile'] = 'senior adult'"
   ]
  },
  {
   "cell_type": "code",
   "execution_count": 29,
   "id": "79a03322-d292-4cc0-80e1-1a517c44cada",
   "metadata": {},
   "outputs": [
    {
     "data": {
      "text/plain": [
       "customer_profile\n",
       "senior adult    12506286\n",
       "midlife          9716005\n",
       "young parent     6560029\n",
       "single adult     2177367\n",
       "Name: count, dtype: int64"
      ]
     },
     "execution_count": 29,
     "metadata": {},
     "output_type": "execute_result"
    }
   ],
   "source": [
    "df_2['customer_profile'].value_counts()"
   ]
  },
  {
   "cell_type": "code",
   "execution_count": 30,
   "id": "5d43327c-6b08-4bb2-a7f8-73ace423571b",
   "metadata": {},
   "outputs": [
    {
     "data": {
      "image/png": "[encoded data removed]",
      "text/plain": [
       "<Figure size 640x480 with 1 Axes>"
      ]
     },
     "metadata": {},
     "output_type": "display_data"
    }
   ],
   "source": [
    "#visualizing customer profiles\n",
    "profiles = df_2['customer_profile'].value_counts().plot.bar()\n",
    "plt.yticks([2000000, 4000000, 6000000, 8000000, 10000000, 12000000], ['2mil', '4mil', '6mil', '8mil', '10mil', '12mil']);"
   ]
  },
  {
   "cell_type": "markdown",
   "id": "67da866b-59b1-4535-a2e9-0e0435764e96",
   "metadata": {},
   "source": [
    "#05 Aggregating customer profiles"
   ]
  },
  {
   "cell_type": "code",
   "execution_count": 32,
   "id": "d406a19f-50cb-4295-bc5a-aaa2ad6551b1",
   "metadata": {},
   "outputs": [
    {
     "data": {
      "text/html": [
       "<div>\n",
       "<style scoped>\n",
       "    .dataframe tbody tr th:only-of-type {\n",
       "        vertical-align: middle;\n",
       "    }\n",
       "\n",
       "    .dataframe tbody tr th {\n",
       "        vertical-align: top;\n",
       "    }\n",
       "\n",
       "    .dataframe thead tr th {\n",
       "        text-align: left;\n",
       "    }\n",
       "\n",
       "    .dataframe thead tr:last-of-type th {\n",
       "        text-align: right;\n",
       "    }\n",
       "</style>\n",
       "<table border=\"1\" class=\"dataframe\">\n",
       "  <thead>\n",
       "    <tr>\n",
       "      <th></th>\n",
       "      <th colspan=\"3\" halign=\"left\">days_since_prior_order</th>\n",
       "      <th colspan=\"3\" halign=\"left\">prices</th>\n",
       "    </tr>\n",
       "    <tr>\n",
       "      <th></th>\n",
       "      <th>mean</th>\n",
       "      <th>min</th>\n",
       "      <th>max</th>\n",
       "      <th>mean</th>\n",
       "      <th>min</th>\n",
       "      <th>max</th>\n",
       "    </tr>\n",
       "    <tr>\n",
       "      <th>customer_profile</th>\n",
       "      <th></th>\n",
       "      <th></th>\n",
       "      <th></th>\n",
       "      <th></th>\n",
       "      <th></th>\n",
       "      <th></th>\n",
       "    </tr>\n",
       "  </thead>\n",
       "  <tbody>\n",
       "    <tr>\n",
       "      <th>midlife</th>\n",
       "      <td>10.800543</td>\n",
       "      <td>0.0</td>\n",
       "      <td>30.0</td>\n",
       "      <td>7.789587</td>\n",
       "      <td>1.0</td>\n",
       "      <td>25.0</td>\n",
       "    </tr>\n",
       "    <tr>\n",
       "      <th>senior adult</th>\n",
       "      <td>10.804533</td>\n",
       "      <td>0.0</td>\n",
       "      <td>30.0</td>\n",
       "      <td>7.795802</td>\n",
       "      <td>1.0</td>\n",
       "      <td>25.0</td>\n",
       "    </tr>\n",
       "    <tr>\n",
       "      <th>single adult</th>\n",
       "      <td>10.898356</td>\n",
       "      <td>0.0</td>\n",
       "      <td>30.0</td>\n",
       "      <td>7.780360</td>\n",
       "      <td>1.0</td>\n",
       "      <td>25.0</td>\n",
       "    </tr>\n",
       "    <tr>\n",
       "      <th>young parent</th>\n",
       "      <td>10.805916</td>\n",
       "      <td>0.0</td>\n",
       "      <td>30.0</td>\n",
       "      <td>7.785536</td>\n",
       "      <td>1.0</td>\n",
       "      <td>25.0</td>\n",
       "    </tr>\n",
       "  </tbody>\n",
       "</table>\n",
       "</div>"
      ],
      "text/plain": [
       "                 days_since_prior_order               prices           \n",
       "                                   mean  min   max      mean  min   max\n",
       "customer_profile                                                       \n",
       "midlife                       10.800543  0.0  30.0  7.789587  1.0  25.0\n",
       "senior adult                  10.804533  0.0  30.0  7.795802  1.0  25.0\n",
       "single adult                  10.898356  0.0  30.0  7.780360  1.0  25.0\n",
       "young parent                  10.805916  0.0  30.0  7.785536  1.0  25.0"
      ]
     },
     "execution_count": 32,
     "metadata": {},
     "output_type": "execute_result"
    }
   ],
   "source": [
    "#Creating aggregation\n",
    "df_2.groupby('customer_profile').agg({\n",
    "    'days_since_prior_order': ['mean', 'min', 'max'],\n",
    "    'prices': ['mean', 'min', 'max']\n",
    "})"
   ]
  },
  {
   "cell_type": "markdown",
   "id": "cef7717a-5bc4-4c7f-8117-ad75de622e4b",
   "metadata": {},
   "source": [
    "#06 Comparing profiles to departments and regions"
   ]
  },
  {
   "cell_type": "code",
   "execution_count": 34,
   "id": "b845724e-f3b3-4dfc-81a6-d74cbf2442e5",
   "metadata": {},
   "outputs": [],
   "source": [
    "#comparing with departments\n",
    "dept = pd.crosstab(df_2['department_id'], df_2['customer_profile'], dropna = False)"
   ]
  },
  {
   "cell_type": "code",
   "execution_count": 35,
   "id": "2e0a6956-76b8-45c0-bdea-01cab20a0b0a",
   "metadata": {},
   "outputs": [],
   "source": [
    "dept.to_clipboard()"
   ]
  },
  {
   "cell_type": "code",
   "execution_count": 36,
   "id": "a93fd7d7-89f4-465e-8751-07076a2a4352",
   "metadata": {},
   "outputs": [
    {
     "data": {
      "image/png": "[encoded data removed]",
      "text/plain": [
       "<Figure size 640x480 with 1 Axes>"
      ]
     },
     "metadata": {},
     "output_type": "display_data"
    }
   ],
   "source": [
    "depts = dept.plot(kind = 'bar', stacked = True, rot = 0)\n",
    "plt.title('Customer Profiles by Department')\n",
    "plt.show()"
   ]
  },
  {
   "cell_type": "code",
   "execution_count": 37,
   "id": "892c46c6-8aae-4f6e-91c9-aed2090c0ac7",
   "metadata": {},
   "outputs": [],
   "source": [
    "#comparing with regions\n",
    "cust_region = pd.crosstab(df_2['region'], df_2['customer_profile'], dropna = False)"
   ]
  },
  {
   "cell_type": "code",
   "execution_count": 38,
   "id": "7ce3ed61-59b1-4d84-84fa-c5b9c5d7cda9",
   "metadata": {},
   "outputs": [
    {
     "data": {
      "image/png": "[encoded data removed]",
      "text/plain": [
       "<Figure size 640x480 with 1 Axes>"
      ]
     },
     "metadata": {},
     "output_type": "display_data"
    }
   ],
   "source": [
    "region = cust_region.plot(kind = 'bar', stacked = True, rot = 0)\n",
    "plt.title('Customer Profiles by Region')\n",
    "plt.yticks([2000000, 4000000, 6000000, 8000000, 10000000], ['2mil', '4mil', '6mil', '8mil', '10mil'])\n",
    "plt.show()"
   ]
  },
  {
   "cell_type": "markdown",
   "id": "159c4a2b-6f15-43d1-958b-d573a8bb913e",
   "metadata": {},
   "source": [
    "#07 Exporting charts"
   ]
  },
  {
   "cell_type": "code",
   "execution_count": 40,
   "id": "d401e6ec-a5e0-4dd9-a969-e88d98084a7e",
   "metadata": {},
   "outputs": [],
   "source": [
    "spending.figure.savefig(os.path.join(path, '04 Analysis', 'Visualizations', 'spending_by_region.png'))"
   ]
  },
  {
   "cell_type": "code",
   "execution_count": 41,
   "id": "60a93e6d-4a40-427e-8726-440d5e69ea47",
   "metadata": {},
   "outputs": [],
   "source": [
    "profiles.figure.savefig(os.path.join(path, '04 Analysis', 'Visualizations', 'customer_profiles.png'))"
   ]
  },
  {
   "cell_type": "code",
   "execution_count": 42,
   "id": "ac4efa47-ab3f-4e01-aee2-a93fab2dc7da",
   "metadata": {},
   "outputs": [],
   "source": [
    "depts.figure.savefig(os.path.join(path, '04 Analysis', 'Visualizations', 'cust_prof_by_dept.png'))"
   ]
  },
  {
   "cell_type": "code",
   "execution_count": 43,
   "id": "88cdf341-24ba-44ee-9ac3-eb93cb38188a",
   "metadata": {},
   "outputs": [],
   "source": [
    "region.figure.savefig(os.path.join(path, '04 Analysis', 'Visualizations', 'cust_prof_by_region.png'))"
   ]
  },
  {
   "cell_type": "markdown",
   "id": "bd568cad-3ebc-4d6b-b69e-1cfe42d8f84a",
   "metadata": {},
   "source": [
    "#08 Exporting dataset"
   ]
  },
  {
   "cell_type": "code",
   "execution_count": 81,
   "id": "1985b1d5-1c1c-4ebf-8926-f9edb8109093",
   "metadata": {},
   "outputs": [],
   "source": [
    "df_2.to_pickle(os.path.join(path, '02 Data', 'Prepared Data', 'final_dataset.pkl'))"
   ]
  },
  {
   "cell_type": "code",
   "execution_count": null,
   "id": "e7e26d4f-a5f1-43f9-8f30-17eb89894379",
   "metadata": {},
   "outputs": [],
   "source": []
  }
 ],
 "metadata": {
  "kernelspec": {
   "display_name": "Python [conda env:base] *",
   "language": "python",
   "name": "conda-base-py"
  },
  "language_info": {
   "codemirror_mode": {
    "name": "ipython",
    "version": 3
   },
   "file_extension": ".py",
   "mimetype": "text/x-python",
   "name": "python",
   "nbconvert_exporter": "python",
   "pygments_lexer": "ipython3",
   "version": "3.12.7"
  }
 },
 "nbformat": 4,
 "nbformat_minor": 5
}
