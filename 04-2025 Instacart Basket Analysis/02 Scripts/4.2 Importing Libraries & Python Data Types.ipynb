{
 "cells": [
  {
   "cell_type": "markdown",
   "id": "9daf38ce-85cb-4911-b028-18b067267362",
   "metadata": {},
   "source": [
    "#01. Importing Libraries"
   ]
  },
  {
   "cell_type": "markdown",
   "id": "b3018f3b-2b68-49cd-a068-dee5b3feaedc",
   "metadata": {},
   "source": [
    "CONTENTS LIST:\n",
    "- Practice commands to assign variables\n",
    "- Practice commands to execute functions\n",
    "- Practice commands to perform mathematical operations and learn data types"
   ]
  },
  {
   "cell_type": "code",
   "execution_count": 2,
   "id": "d8359746-0915-43ec-9d00-039c44deb0dd",
   "metadata": {},
   "outputs": [],
   "source": [
    "# import libraries\n",
    "import pandas as pd\n",
    "import numpy as np\n",
    "import os"
   ]
  },
  {
   "cell_type": "code",
   "execution_count": 4,
   "id": "9c9864db-9cb8-49b4-9db1-0b097ddb9fea",
   "metadata": {},
   "outputs": [],
   "source": [
    "x=2"
   ]
  },
  {
   "cell_type": "code",
   "execution_count": 6,
   "id": "3e51d809-1483-42c1-b1fc-222ead32cd17",
   "metadata": {},
   "outputs": [
    {
     "data": {
      "text/plain": [
       "2"
      ]
     },
     "execution_count": 6,
     "metadata": {},
     "output_type": "execute_result"
    }
   ],
   "source": [
    "x"
   ]
  },
  {
   "cell_type": "code",
   "execution_count": 8,
   "id": "4bd8e675-98fb-4870-875c-ba8ec91dcfbb",
   "metadata": {},
   "outputs": [
    {
     "name": "stdout",
     "output_type": "stream",
     "text": [
      "2\n"
     ]
    }
   ],
   "source": [
    "print(x)"
   ]
  },
  {
   "cell_type": "code",
   "execution_count": 10,
   "id": "eb8d6528-7b7b-4df0-858b-144166d7410a",
   "metadata": {},
   "outputs": [
    {
     "data": {
      "text/plain": [
       "int"
      ]
     },
     "execution_count": 10,
     "metadata": {},
     "output_type": "execute_result"
    }
   ],
   "source": [
    "type(x)"
   ]
  },
  {
   "cell_type": "code",
   "execution_count": 12,
   "id": "702ff54e-ad37-49a1-83ab-f1566a847ce8",
   "metadata": {},
   "outputs": [],
   "source": [
    "y=5.678"
   ]
  },
  {
   "cell_type": "code",
   "execution_count": 14,
   "id": "a0f30b8a-4245-4f58-99da-662157a0492f",
   "metadata": {},
   "outputs": [
    {
     "data": {
      "text/plain": [
       "float"
      ]
     },
     "execution_count": 14,
     "metadata": {},
     "output_type": "execute_result"
    }
   ],
   "source": [
    "type(y)"
   ]
  },
  {
   "cell_type": "code",
   "execution_count": 16,
   "id": "fabbeb4d-6f8b-48a1-801a-c2cbfe908f89",
   "metadata": {},
   "outputs": [],
   "source": [
    "z='Brazil'"
   ]
  },
  {
   "cell_type": "code",
   "execution_count": 18,
   "id": "ace3f733-b476-4405-9b3f-18e72390c244",
   "metadata": {},
   "outputs": [
    {
     "data": {
      "text/plain": [
       "str"
      ]
     },
     "execution_count": 18,
     "metadata": {},
     "output_type": "execute_result"
    }
   ],
   "source": [
    "type(z)"
   ]
  },
  {
   "cell_type": "code",
   "execution_count": 20,
   "id": "6907d746-07b3-4b7b-8bd4-3f7838792288",
   "metadata": {},
   "outputs": [
    {
     "data": {
      "text/plain": [
       "str"
      ]
     },
     "execution_count": 20,
     "metadata": {},
     "output_type": "execute_result"
    }
   ],
   "source": [
    "type('Mania')"
   ]
  },
  {
   "cell_type": "code",
   "execution_count": 26,
   "id": "c3266fc9-11d9-43be-bfe4-092aaacb5f3c",
   "metadata": {},
   "outputs": [
    {
     "data": {
      "text/plain": [
       "bool"
      ]
     },
     "execution_count": 26,
     "metadata": {},
     "output_type": "execute_result"
    }
   ],
   "source": [
    "type(True)"
   ]
  },
  {
   "cell_type": "code",
   "execution_count": 28,
   "id": "4e5760ac-a447-4a66-84e8-1079a55ae69f",
   "metadata": {},
   "outputs": [
    {
     "data": {
      "text/plain": [
       "bool"
      ]
     },
     "execution_count": 28,
     "metadata": {},
     "output_type": "execute_result"
    }
   ],
   "source": [
    "type(False)"
   ]
  },
  {
   "cell_type": "code",
   "execution_count": 30,
   "id": "75348700-f341-4876-b17a-86fb1247e1d1",
   "metadata": {},
   "outputs": [
    {
     "data": {
      "text/plain": [
       "6"
      ]
     },
     "execution_count": 30,
     "metadata": {},
     "output_type": "execute_result"
    }
   ],
   "source": [
    "x+4"
   ]
  },
  {
   "cell_type": "code",
   "execution_count": 32,
   "id": "6e44d96b-ee50-4093-bca1-ba9540eea77b",
   "metadata": {},
   "outputs": [
    {
     "data": {
      "text/plain": [
       "7.678"
      ]
     },
     "execution_count": 32,
     "metadata": {},
     "output_type": "execute_result"
    }
   ],
   "source": [
    "x+y"
   ]
  },
  {
   "cell_type": "code",
   "execution_count": 34,
   "id": "d41d3ab5-8ec6-4781-8682-21922de0f59d",
   "metadata": {},
   "outputs": [],
   "source": [
    "x=x+4"
   ]
  },
  {
   "cell_type": "code",
   "execution_count": 36,
   "id": "d6a707b0-15a4-4eb8-bdbb-c072175c5d6e",
   "metadata": {},
   "outputs": [
    {
     "name": "stdout",
     "output_type": "stream",
     "text": [
      "6\n"
     ]
    }
   ],
   "source": [
    "print(x)"
   ]
  },
  {
   "cell_type": "code",
   "execution_count": 38,
   "id": "2de09fa6-8c7e-486c-8bd7-2372555c94a6",
   "metadata": {},
   "outputs": [],
   "source": [
    "a='Hello,'\n",
    "b='Marley!'"
   ]
  },
  {
   "cell_type": "code",
   "execution_count": 40,
   "id": "1d188512-7049-4174-aa9f-2ce1886e45aa",
   "metadata": {},
   "outputs": [
    {
     "data": {
      "text/plain": [
       "'Hello,Marley!'"
      ]
     },
     "execution_count": 40,
     "metadata": {},
     "output_type": "execute_result"
    }
   ],
   "source": [
    "a+b"
   ]
  },
  {
   "cell_type": "code",
   "execution_count": 42,
   "id": "63d98849-b562-4244-920c-7b6b54926d03",
   "metadata": {},
   "outputs": [
    {
     "data": {
      "text/plain": [
       "False"
      ]
     },
     "execution_count": 42,
     "metadata": {},
     "output_type": "execute_result"
    }
   ],
   "source": [
    "x==y"
   ]
  },
  {
   "cell_type": "markdown",
   "id": "e89e5d5f-ddc6-4d48-a0e6-e835a4220b78",
   "metadata": {},
   "source": [
    "#02. Python Data Types"
   ]
  },
  {
   "cell_type": "code",
   "execution_count": 3,
   "id": "8e1bb927-9055-4a54-8d0c-70ab1e5e3f82",
   "metadata": {},
   "outputs": [],
   "source": [
    "x = 50\n",
    "y = 25"
   ]
  },
  {
   "cell_type": "code",
   "execution_count": 5,
   "id": "94e9fd16-1273-44b6-9892-11a3b1f1484c",
   "metadata": {},
   "outputs": [
    {
     "data": {
      "text/plain": [
       "100"
      ]
     },
     "execution_count": 5,
     "metadata": {},
     "output_type": "execute_result"
    }
   ],
   "source": [
    "x + y + y"
   ]
  },
  {
   "cell_type": "code",
   "execution_count": 9,
   "id": "7d82a156-0e53-4772-867d-49701dee4032",
   "metadata": {},
   "outputs": [
    {
     "data": {
      "text/plain": [
       "100"
      ]
     },
     "execution_count": 9,
     "metadata": {},
     "output_type": "execute_result"
    }
   ],
   "source": [
    "y + y + y + y"
   ]
  },
  {
   "cell_type": "code",
   "execution_count": 11,
   "id": "82e7d85e-28be-4bea-8c82-e6cf72c1962d",
   "metadata": {},
   "outputs": [
    {
     "data": {
      "text/plain": [
       "100"
      ]
     },
     "execution_count": 11,
     "metadata": {},
     "output_type": "execute_result"
    }
   ],
   "source": [
    "x + x "
   ]
  },
  {
   "cell_type": "code",
   "execution_count": 13,
   "id": "e77ac6e2-1bbc-4372-b228-80599a179e90",
   "metadata": {},
   "outputs": [],
   "source": [
    "i = 5.34\n",
    "j = 2.52"
   ]
  },
  {
   "cell_type": "code",
   "execution_count": 15,
   "id": "a1ce49b2-8518-4988-b18b-4c8dab8cf832",
   "metadata": {},
   "outputs": [
    {
     "data": {
      "text/plain": [
       "2.119047619047619"
      ]
     },
     "execution_count": 15,
     "metadata": {},
     "output_type": "execute_result"
    }
   ],
   "source": [
    "i/j"
   ]
  },
  {
   "cell_type": "code",
   "execution_count": 17,
   "id": "612b9c68-5bcf-4ffd-a97c-000ecd769ee0",
   "metadata": {},
   "outputs": [
    {
     "data": {
      "text/plain": [
       "'cinnamon'"
      ]
     },
     "execution_count": 17,
     "metadata": {},
     "output_type": "execute_result"
    }
   ],
   "source": [
    "'cinn' + 'amon'"
   ]
  },
  {
   "cell_type": "code",
   "execution_count": 19,
   "id": "48d6553f-d13d-4571-a5f1-57a8659ec39d",
   "metadata": {},
   "outputs": [
    {
     "data": {
      "text/plain": [
       "'My husband likes cinnamon.'"
      ]
     },
     "execution_count": 19,
     "metadata": {},
     "output_type": "execute_result"
    }
   ],
   "source": [
    "'My ' + 'husband ' + 'likes cinnamon.'"
   ]
  },
  {
   "cell_type": "code",
   "execution_count": 21,
   "id": "ee1c1dab-89bd-4063-808b-0f8c382a6121",
   "metadata": {},
   "outputs": [
    {
     "data": {
      "text/plain": [
       "'I like chocolate.'"
      ]
     },
     "execution_count": 21,
     "metadata": {},
     "output_type": "execute_result"
    }
   ],
   "source": [
    "'I like' + ' chocolate.'"
   ]
  },
  {
   "cell_type": "code",
   "execution_count": null,
   "id": "16e247d6-5b6f-41e9-a760-f1ea8f805158",
   "metadata": {},
   "outputs": [],
   "source": []
  }
 ],
 "metadata": {
  "kernelspec": {
   "display_name": "Python [conda env:base] *",
   "language": "python",
   "name": "conda-base-py"
  },
  "language_info": {
   "codemirror_mode": {
    "name": "ipython",
    "version": 3
   },
   "file_extension": ".py",
   "mimetype": "text/x-python",
   "name": "python",
   "nbconvert_exporter": "python",
   "pygments_lexer": "ipython3",
   "version": "3.12.7"
  }
 },
 "nbformat": 4,
 "nbformat_minor": 5
}
